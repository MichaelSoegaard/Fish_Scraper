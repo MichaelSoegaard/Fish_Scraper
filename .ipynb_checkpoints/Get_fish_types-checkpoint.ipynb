{
 "cells": [
  {
   "cell_type": "code",
   "execution_count": null,
   "id": "ca602dca-305f-43ec-87d7-5209fdbb1660",
   "metadata": {},
   "outputs": [],
   "source": [
    "import os\n",
    "import pandas as pd\n",
    "import requests\n",
    "import numpy as np\n",
    "from joblib import Parallel, delayed\n",
    "from bs4 import BeautifulSoup as bs\n",
    "from Fishy import fish_scraper"
   ]
  },
  {
   "cell_type": "code",
   "execution_count": null,
   "id": "13ebe21d-746f-486b-b91f-67f816ad6204",
   "metadata": {},
   "outputs": [],
   "source": [
    "image_folder = \"d://fish_scraper/\""
   ]
  },
  {
   "cell_type": "code",
   "execution_count": null,
   "id": "a3002cab-dc4b-47d1-9aed-6e6f0fb62205",
   "metadata": {},
   "outputs": [],
   "source": [
    "wikiurl=\"https://en.wikipedia.org/wiki/List_of_freshwater_aquarium_fish_species\"\n",
    "table_class=\"sortable\"\n",
    "response=requests.get(wikiurl)\n",
    "print(response.status_code)"
   ]
  },
  {
   "cell_type": "code",
   "execution_count": null,
   "id": "9bd8cb85-07a2-43d5-8c0e-1703e9e8f1e1",
   "metadata": {},
   "outputs": [],
   "source": [
    "soup = bs(response.text, 'html.parser')\n",
    "fishy = soup.findAll('table',{'class':table_class}) #"
   ]
  },
  {
   "cell_type": "code",
   "execution_count": null,
   "id": "f7239cb2-9016-46a7-bbe5-f1363511ae8d",
   "metadata": {},
   "outputs": [],
   "source": [
    "all_tables = pd.read_html(str(fishy))\n",
    "\n",
    "full_df = pd.DataFrame(columns=['Common name', 'Taxonomy'])\n",
    "\n",
    "for table in all_tables:\n",
    "    cols = table.columns.tolist()\n",
    "    if 'Common name' not in cols:\n",
    "        continue\n",
    "    t = table[['Common name', 'Taxonomy']]\n",
    "    full_df = full_df.append(t, ignore_index=True)\n",
    "    \n",
    "full_df['Taxonomy'] = full_df['Taxonomy'].apply(lambda x: x.replace(\" \", \"-\"))"
   ]
  },
  {
   "cell_type": "code",
   "execution_count": null,
   "id": "c5701aca-d963-414c-9dc0-5e2c59aeef44",
   "metadata": {},
   "outputs": [],
   "source": [
    "full_df['Taxonomy'].isna().any()"
   ]
  },
  {
   "cell_type": "code",
   "execution_count": null,
   "id": "8cd4bce7-a666-45fa-be57-8985feeb6057",
   "metadata": {},
   "outputs": [],
   "source": [
    "image_folder"
   ]
  },
  {
   "cell_type": "code",
   "execution_count": null,
   "id": "53b95649-314b-4628-8d72-9df1957bbe03",
   "metadata": {},
   "outputs": [],
   "source": [
    "if not os.path.exists('data'):\n",
    "    os.makedirs('data')\n",
    "    \n",
    "full_df.to_csv('data/Fish_list.csv', index=False)"
   ]
  },
  {
   "cell_type": "code",
   "execution_count": null,
   "id": "6fa09c98-214b-408c-85ef-a21af4f0894f",
   "metadata": {},
   "outputs": [],
   "source": [
    "def get_fish(fish, image_folder):\n",
    "    f = fish_scraper(fish, image_folder, num_images=200, max_res=(1400,1200))\n",
    "    f.run()\n",
    "\n",
    "Parallel(n_jobs=4)(delayed(get_fish)(fish, image_folder) for fish in full_df['Taxonomy'])"
   ]
  },
  {
   "cell_type": "code",
   "execution_count": null,
   "id": "9269b28c-394a-48b0-a9eb-861c1c6cfa43",
   "metadata": {},
   "outputs": [],
   "source": []
  }
 ],
 "metadata": {
  "kernelspec": {
   "display_name": "py310",
   "language": "python",
   "name": "py310"
  },
  "language_info": {
   "codemirror_mode": {
    "name": "ipython",
    "version": 3
   },
   "file_extension": ".py",
   "mimetype": "text/x-python",
   "name": "python",
   "nbconvert_exporter": "python",
   "pygments_lexer": "ipython3",
   "version": "3.10.4"
  }
 },
 "nbformat": 4,
 "nbformat_minor": 5
}
