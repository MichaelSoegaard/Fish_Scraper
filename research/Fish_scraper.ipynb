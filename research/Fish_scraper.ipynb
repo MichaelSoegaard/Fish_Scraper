{
 "cells": [
  {
   "cell_type": "code",
   "execution_count": 7,
   "id": "2df74997-ba30-4b34-84ac-bff362eed057",
   "metadata": {},
   "outputs": [],
   "source": [
    "import os\n",
    "import re\n",
    "import pandas as pd\n",
    "from bs4 import BeautifulSoup as bs\n",
    "import requests\n",
    "from requests.exceptions import ConnectionError, ConnectTimeout\n",
    "from random import randint\n",
    "from GImageScraper import GoogleImageScraper\n",
    "from patch import webdriver_executable\n",
    "import mimetypes\n",
    "from joblib import Parallel, delayed\n",
    "import urllib3\n",
    "from tqdm import tqdm\n",
    "\n",
    "urllib3.disable_warnings(urllib3.exceptions.InsecureRequestWarning)"
   ]
  },
  {
   "cell_type": "code",
   "execution_count": 2,
   "id": "58ddce2a-ad68-4487-9796-97dbb76d46e8",
   "metadata": {},
   "outputs": [],
   "source": [
    "webdriver_path = \"./webdriver/chromedriver.exe\"\n",
    "image_path = 'd://fish_scraper/'"
   ]
  },
  {
   "cell_type": "code",
   "execution_count": 3,
   "id": "0828f595-3012-4233-87c7-8d0226c57afd",
   "metadata": {},
   "outputs": [],
   "source": [
    "def dl_image(fish, image_path, url):\n",
    "    \n",
    "    fileid = randint(10000, 99999)\n",
    "    r = requests.get(url, allow_redirects=True, verify=False)\n",
    "    content_type = r.headers['content-type']\n",
    "    extension = mimetypes.guess_extension(content_type)  \n",
    "    if extension == None:\n",
    "        extension = \".jpg\"\n",
    "    if extension in [\".jpg\", \".png\"]:\n",
    "        open(f\"{image_path}{fish}/{fish[:3]}{str(fileid)}{extension}\", 'wb').write(r.content)\n",
    "\n",
    "def scrape_fishbase(fish, image_path):\n",
    "    \n",
    "    if not os.path.exists(image_path+fish):\n",
    "        os.makedirs(image_path+fish)\n",
    "    \n",
    "    def get_url(image):\n",
    "        url = (image['src'])\n",
    "        url = url.replace(\"%2F\", \"/\")\n",
    "        url = \"https://www.fishbase.de\"+url[2:]\n",
    "        return url  \n",
    "    \n",
    "    html_page = requests.get(f'http://fishbase.de/summary/{fish}')\n",
    "    soup = bs(html_page.content, 'html.parser')\n",
    "    txt = soup.find(title=\"English\")\n",
    "    fish_id = re.search('[0-9]+', str(txt))[0]\n",
    "\n",
    "    html_page = requests.get(f'https://www.fishbase.de/photos/thumbnailssummary.php?ID={fish_id}')\n",
    "    soup = bs(html_page.content, 'html.parser')\n",
    "    image_urls = soup.find_all(\"img\", width=\"300\")\n",
    "    urls = [get_url(image) for image in image_urls]\n",
    "    urls = list(set(urls))\n",
    "    [dl_image(fish, image_path, url) for url in urls]\n",
    "    print(f\"Fishbase done scraping for {fish}\")\n",
    "    "
   ]
  },
  {
   "cell_type": "code",
   "execution_count": 4,
   "id": "31aeb6c7-da4c-48c5-92e6-20724d4cd4a0",
   "metadata": {},
   "outputs": [],
   "source": [
    "def scrape_google(fish, image_path=image_path):\n",
    "\n",
    "    number_of_images = 200\n",
    "    headless = True\n",
    "    min_resolution=(100,100)\n",
    "    max_resolution=(1400,1200)\n",
    "\n",
    "    image_scraper = GoogleImageScraper(webdriver_path,image_path,fish,number_of_images,headless,min_resolution,max_resolution)\n",
    "    urls = image_scraper.find_image_urls()\n",
    "    \n",
    "    return urls\n",
    "\n",
    "def get_files(urls):\n",
    "    i = 1\n",
    "    for url in urls:\n",
    "        print(f\"Round {i} of {len(urls)}\")\n",
    "        try:\n",
    "            dl_image(fish, image_path, url)\n",
    "        except ConnectionError as e:\n",
    "            print('Ignoring Exception', e)\n",
    "        i += 1"
   ]
  },
  {
   "cell_type": "code",
   "execution_count": null,
   "id": "2e7d241f-61d8-4bad-924d-c67ba7509611",
   "metadata": {},
   "outputs": [],
   "source": [
    "def get_fish(fish):\n",
    "    print(fish)\n",
    "    try:\n",
    "        scrape_fishbase(fish, image_path)\n",
    "    except ConnectTimeout as e:\n",
    "        print(\"Fishbase unresponsive. Ignoring\", e)\n",
    "    urls = scrape_google(fish, image_path)\n",
    "    [dl_image(fish, image_path, url) for url in urls]\n",
    "    \n",
    "\n",
    "fish_list = pd.read_csv('data/Fish_list.csv')\n",
    "fish_list = list(fish_list['Taxonomy'])\n",
    "fish_string = [string.replace(\" \", \"-\") for string in fish_list]\n",
    "    \n",
    "Parallel(n_jobs=4)(delayed(get_fish)(fish) for fish in fish_string[:4])"
   ]
  },
  {
   "cell_type": "code",
   "execution_count": null,
   "id": "fe934f28-0643-427a-9c6b-15ca4a51b198",
   "metadata": {
    "tags": []
   },
   "outputs": [],
   "source": [
    "fish_list = pd.read_csv('data/Fish_list.csv')\n",
    "fish_list = list(fish_list['Taxonomy'])\n",
    "fish_string = [string.replace(\" \", \"-\") for string in fish_list]\n",
    "\n",
    "\n",
    "u = []\n",
    "for fish in fish_string[:3]:\n",
    "    print(fish)\n",
    "    scrape_fishbase(fish, image_path)\n",
    "    urls = scrape_google(fish, image_path)\n",
    "    u.append(urls)\n",
    "    #get_files(urls)"
   ]
  },
  {
   "cell_type": "code",
   "execution_count": null,
   "id": "1e1b01e3-62ed-42ef-9703-f45564241a6c",
   "metadata": {},
   "outputs": [],
   "source": [
    "for i in range(len(u)):\n",
    "    print(i, len(u[i]))"
   ]
  },
  {
   "cell_type": "code",
   "execution_count": null,
   "id": "022395f6-14b9-454a-8241-1c4ccb78eda6",
   "metadata": {},
   "outputs": [],
   "source": [
    "for fish, link_urls in tqdm(zip(fish_string[:3], u), desc=\"Fish\"):\n",
    "    for url in tqdm(link_urls, desc=\"Links\"):\n",
    "        #print(url)\n",
    "        dl_image(fish, image_path, url)"
   ]
  },
  {
   "cell_type": "code",
   "execution_count": null,
   "id": "802f0957-7412-4df6-98e4-f4221935ae4a",
   "metadata": {},
   "outputs": [],
   "source": [
    "for fish, link_urls in zip(fish_string[:3], u):\n",
    "    for url in link_urls:\n",
    "        try:\n",
    "            dl_image(fish, image_path, url)\n",
    "        except ConnectionError as e:\n",
    "            print('Ignoring Exception', e)"
   ]
  },
  {
   "cell_type": "code",
   "execution_count": null,
   "id": "fbd2cd6c-4342-4605-b968-e5b8f19cf793",
   "metadata": {},
   "outputs": [],
   "source": [
    "def store_many_hdf5(images, labels):\n",
    "    \"\"\" Stores an array of images to HDF5.\n",
    "        Parameters:\n",
    "        ---------------\n",
    "        images       images array, (N, 32, 32, 3) to be stored\n",
    "        labels       labels array, (N, 1) to be stored\n",
    "    \"\"\"\n",
    "    num_images = len(images)\n",
    "\n",
    "    # Create a new HDF5 file\n",
    "    file = h5py.File(hdf5_dir / f\"{num_images}_many.h5\", \"w\")\n",
    "\n",
    "    # Create a dataset in the file\n",
    "    dataset = file.create_dataset(\n",
    "        \"images\", np.shape(images), h5py.h5t.STD_U8BE, data=images\n",
    "    )\n",
    "    meta_set = file.create_dataset(\n",
    "        \"meta\", np.shape(labels), h5py.h5t.STD_U8BE, data=labels\n",
    "    )\n",
    "    file.close()"
   ]
  },
  {
   "cell_type": "code",
   "execution_count": null,
   "id": "d6e33021-d535-4490-9d6b-083aedcf902f",
   "metadata": {},
   "outputs": [],
   "source": [
    "import re, urllib.parse\n",
    "from selenium import webdriver\n",
    "\n",
    "driver = webdriver.Chrome(executable_path=webdriver_path)\n",
    "\n",
    "for result in driver.find_elements_by_css_selector('.js-images-link'):\n",
    "    title = result.find_element_by_css_selector('.js-images-link a img').get_attribute('alt')\n",
    "    link = result.find_element_by_css_selector('.js-images-link a').get_attribute('href')\n",
    "    thumbnail_encoded = result.find_element_by_css_selector('.js-images-link a img').get_attribute('src')\n",
    "    # https://regex101.com/r/4pgG5m/1\n",
    "    match_thumbnail_urls = ''.join(re.findall(r'https\\:\\/\\/external\\-content\\.duckduckgo\\.com\\/iu\\/\\?u\\=(.*)&f=1', thumbnail_encoded))\n",
    "    # https://www.kite.com/python/answers/how-to-decode-a-utf-8-url-in-python\n",
    "    thumbnail = urllib.parse.unquote(match_thumbnail_urls).replace('&h=160', '')\n",
    "    image = result.get_attribute('data-id')\n",
    "\n",
    "    print(f'{title}\\n{link}\\n{thumbnail}\\n{image}\\n')\n",
    "\n",
    "driver.quit()\n"
   ]
  },
  {
   "cell_type": "code",
   "execution_count": null,
   "id": "25643fb0-ba68-46c3-9eec-779b9bed97a0",
   "metadata": {},
   "outputs": [],
   "source": [
    "#driver = webdriver.Chrome(webdriver_path, chrome_options=options)\n",
    "from selenium.webdriver.chrome.options import Options\n",
    "from selenium.webdriver.common.by import By\n",
    "from selenium import webdriver\n",
    "import time\n",
    "\n",
    "options = Options()\n",
    "options.add_argument('--headless')\n",
    "\n",
    "driver = webdriver.Chrome(webdriver_path, options=options)\n",
    "\n",
    "indx=1\n",
    "search_key = fish\n",
    "image_urls = []\n",
    "for i in range(1,20):\n",
    "    url = \"https://www.google.com/search?q=%s&source=lnms&tbm=isch&sa=X&ved=2ahUKEwie44_AnqLpAhUhBWMBHUFGD90Q_AUoAXoECBUQAw&biw=1920&bih=947\"%(search_key)\n",
    "    driver.get(url)\n",
    "    time.sleep(3)\n",
    "    imgurl = driver.find_element(By.XPATH, value=f'//*[@id=\"islrg\"]/div[1]/div[{i}]/a[1]/div[1]/img')\n",
    "    \n",
    "    imgurl.click()\n",
    "    time.sleep(1)\n",
    "    class_names = [\"n3VNCb\"]\n",
    "    images = [driver.find_elements(by=By.CLASS_NAME, value=class_name) for class_name in class_names if len(driver.find_elements(by=By.CLASS_NAME, value=class_name)) != 0 ][0]\n",
    "    \n",
    "    for image in images:\n",
    "    #only download images that starts with http\n",
    "        src_link = image.get_attribute(\"src\")\n",
    "        if((\"http\" in  src_link) and (not \"encrypted\" in src_link)):\n",
    "            image_urls.append(src_link)"
   ]
  },
  {
   "cell_type": "code",
   "execution_count": null,
   "id": "569f3d03-203a-404e-9a83-95b7886bd336",
   "metadata": {},
   "outputs": [],
   "source": []
  },
  {
   "cell_type": "code",
   "execution_count": null,
   "id": "93d2b570-88d4-4c84-a99d-d84b392d73ac",
   "metadata": {},
   "outputs": [],
   "source": [
    "#xx = driver.find_elements(by=By.CLASS_NAME, value='n3VNCb')\n",
    "#src_link = xx[0].get_attribute(\"src\")"
   ]
  },
  {
   "cell_type": "code",
   "execution_count": null,
   "id": "e3af6a47-c1de-4a05-9941-630f3235b829",
   "metadata": {},
   "outputs": [],
   "source": [
    "fish"
   ]
  },
  {
   "cell_type": "code",
   "execution_count": null,
   "id": "0f7ebd60-f1ac-4a78-a245-d6f4965afc31",
   "metadata": {},
   "outputs": [],
   "source": [
    "[dl_image(url, fish) for url in image_urls]"
   ]
  },
  {
   "cell_type": "code",
   "execution_count": null,
   "id": "f5cf2af8-3780-49e5-a658-e3520e99453d",
   "metadata": {},
   "outputs": [],
   "source": [
    "import mimetypes\n",
    "\n",
    "r = requests.get(\"https://www.ikea.com/dk/da/images/products/jaettestor-tojdyr-elefant-gra__0877889_pe633605_s5.jpg\", allow_redirects=True)\n",
    "content_type = r.headers['content-type']\n",
    "extension = mimetypes.guess_extension(content_type)\n",
    "print(extension)"
   ]
  },
  {
   "cell_type": "code",
   "execution_count": null,
   "id": "60910fc2-6d30-4096-8ef7-ebd29e255f5d",
   "metadata": {},
   "outputs": [],
   "source": [
    "len(u[0])"
   ]
  },
  {
   "cell_type": "code",
   "execution_count": null,
   "id": "1da79a76-baa0-48e3-9d7d-be6de5556e4a",
   "metadata": {},
   "outputs": [],
   "source": [
    "len(u[1])"
   ]
  },
  {
   "cell_type": "code",
   "execution_count": null,
   "id": "bd386a7e-493a-48b4-bf78-f1c5afd0c1a5",
   "metadata": {},
   "outputs": [],
   "source": [
    "len(u[2])"
   ]
  },
  {
   "cell_type": "code",
   "execution_count": null,
   "id": "f613126c-a3b6-46ba-8cd0-f24eda86bb72",
   "metadata": {},
   "outputs": [],
   "source": []
  }
 ],
 "metadata": {
  "kernelspec": {
   "display_name": "py310",
   "language": "python",
   "name": "py310"
  },
  "language_info": {
   "codemirror_mode": {
    "name": "ipython",
    "version": 3
   },
   "file_extension": ".py",
   "mimetype": "text/x-python",
   "name": "python",
   "nbconvert_exporter": "python",
   "pygments_lexer": "ipython3",
   "version": "3.10.4"
  }
 },
 "nbformat": 4,
 "nbformat_minor": 5
}
